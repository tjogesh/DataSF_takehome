{
 "cells": [
  {
   "cell_type": "code",
   "execution_count": 24,
   "metadata": {},
   "outputs": [],
   "source": [
    "import pandas as pd"
   ]
  },
  {
   "cell_type": "code",
   "execution_count": 25,
   "metadata": {},
   "outputs": [],
   "source": [
    "parcel_type = pd.read_csv('RawData/Parcel_data.csv' , low_memory=False)"
   ]
  },
  {
   "cell_type": "code",
   "execution_count": 26,
   "metadata": {},
   "outputs": [
    {
     "data": {
      "text/plain": [
       "(25481, 43)"
      ]
     },
     "execution_count": 26,
     "metadata": {},
     "output_type": "execute_result"
    }
   ],
   "source": [
    "# subset the property tax data by multiresidential units (i.e R2 units) and for 2014\n",
    "R2=(parcel_type['Property Class Code']=='A') | (parcel_type['Property Class Code']=='CO') \\\n",
    "| (parcel_type['Property Class Code']=='DA') | (parcel_type['Property Class Code']=='DD') \\\n",
    "| (parcel_type['Property Class Code']=='DF')| (parcel_type['Property Class Code']=='F') \\\n",
    "| (parcel_type['Property Class Code']=='FA')| (parcel_type['Property Class Code']=='F2') \\\n",
    "| (parcel_type['Property Class Code']=='OA') | (parcel_type['Property Class Code']=='TIA') \\\n",
    "| (parcel_type['Property Class Code']=='TIF') | (parcel_type['Property Class Code']=='XV')\n",
    "\n",
    "\n",
    "parcel_type_r2 = parcel_type[R2]\n",
    "parcel_type_r2_2014 = parcel_type_r2[parcel_type_r2['Closed Roll Fiscal Year'] ==2014 ]\n",
    "#print(parcel_type.shape(), parcel_type_r2.shape())\n",
    "parcel_type_r2_2014.reset_index(inplace=True)\n",
    "#parcel_type_r2=parcel_type_r2.drop_duplicates(['Block and Lot Number']) \n",
    "parcel_type_r2_2014.shape"
   ]
  },
  {
   "cell_type": "code",
   "execution_count": 27,
   "metadata": {},
   "outputs": [
    {
     "name": "stdout",
     "output_type": "stream",
     "text": [
      "<class 'pandas.core.frame.DataFrame'>\n",
      "RangeIndex: 25481 entries, 0 to 25480\n",
      "Data columns (total 43 columns):\n",
      "index                                         25481 non-null int64\n",
      "Closed Roll Fiscal Year                       25481 non-null float64\n",
      "Property Location                             25481 non-null object\n",
      "Neighborhood Code                             25481 non-null object\n",
      "Neighborhood Code Definition                  25466 non-null object\n",
      "Block and Lot Number                          25481 non-null object\n",
      "Volume Number                                 25481 non-null int64\n",
      "Property Class Code                           25481 non-null object\n",
      "Property Class Code Definition                25481 non-null object\n",
      "Year Property Built                           24732 non-null float64\n",
      "Number of Bathrooms                           25481 non-null float64\n",
      "Number of Bedrooms                            25481 non-null int64\n",
      "Number of Rooms                               25481 non-null int64\n",
      "Number of Stories                             25481 non-null int64\n",
      "Number of Units                               25481 non-null int64\n",
      "Characteristics Change Date                   0 non-null float64\n",
      "Zoning Code                                   23664 non-null object\n",
      "Construction Type                             23324 non-null object\n",
      "Lot Depth                                     25481 non-null float64\n",
      "Lot Frontage                                  25481 non-null float64\n",
      "Property Area in Square Feet                  25481 non-null int64\n",
      "Basement Area                                 25481 non-null float64\n",
      "Lot Area                                      25481 non-null float64\n",
      "Lot Code                                      12008 non-null object\n",
      "Prior Sales Date                              0 non-null float64\n",
      "Recordation Date                              24070 non-null object\n",
      "Document Number                               9433 non-null object\n",
      "Document Number 2                             25481 non-null float64\n",
      "Tax Rate Area Code                            25477 non-null float64\n",
      "Percent of Ownership                          25481 non-null float64\n",
      "Closed Roll Exemption Type Code               10019 non-null object\n",
      "Closed Roll Exemption Type Code Definition    10018 non-null object\n",
      "Closed Roll Status Code                       41 non-null object\n",
      "Closed Roll Misc Exemption Value              25481 non-null float64\n",
      "Closed Roll Homeowner Exemption Value         25481 non-null float64\n",
      "Current Sales Date                            11779 non-null object\n",
      "Closed Roll Assessed Fixtures Value           25481 non-null float64\n",
      "Closed Roll Assessed Improvement Value        25481 non-null float64\n",
      "Closed Roll Assessed Land Value               25481 non-null float64\n",
      "Closed Roll Assessed Personal Prop Value      25481 non-null float64\n",
      "Supervisor District                           25475 non-null float64\n",
      "Neighborhoods - Analysis Boundaries           25475 non-null object\n",
      "Location                                      25476 non-null object\n",
      "dtypes: float64(19), int64(7), object(17)\n",
      "memory usage: 8.4+ MB\n"
     ]
    }
   ],
   "source": [
    "parcel_type_r2_2014.info()"
   ]
  },
  {
   "cell_type": "code",
   "execution_count": 4,
   "metadata": {},
   "outputs": [],
   "source": [
    "# use this to clean other data frames\n",
    "parcel_type_r2_2014[['Block and Lot Number','Property Location','Location']].to_csv('residential_units.csv')"
   ]
  },
  {
   "cell_type": "code",
   "execution_count": 28,
   "metadata": {},
   "outputs": [
    {
     "name": "stderr",
     "output_type": "stream",
     "text": [
      "/Users/taniajogesh/anaconda/lib/python2.7/site-packages/ipykernel/__main__.py:1: SettingWithCopyWarning: \n",
      "A value is trying to be set on a copy of a slice from a DataFrame.\n",
      "Try using .loc[row_indexer,col_indexer] = value instead\n",
      "\n",
      "See the caveats in the documentation: http://pandas.pydata.org/pandas-docs/stable/indexing.html#indexing-view-versus-copy\n",
      "  if __name__ == '__main__':\n",
      "/Users/taniajogesh/anaconda/lib/python2.7/site-packages/ipykernel/__main__.py:2: SettingWithCopyWarning: \n",
      "A value is trying to be set on a copy of a slice from a DataFrame.\n",
      "Try using .loc[row_indexer,col_indexer] = value instead\n",
      "\n",
      "See the caveats in the documentation: http://pandas.pydata.org/pandas-docs/stable/indexing.html#indexing-view-versus-copy\n",
      "  from ipykernel import kernelapp as app\n",
      "/Users/taniajogesh/anaconda/lib/python2.7/site-packages/ipykernel/__main__.py:6: SettingWithCopyWarning: \n",
      "A value is trying to be set on a copy of a slice from a DataFrame.\n",
      "Try using .loc[row_indexer,col_indexer] = value instead\n",
      "\n",
      "See the caveats in the documentation: http://pandas.pydata.org/pandas-docs/stable/indexing.html#indexing-view-versus-copy\n"
     ]
    }
   ],
   "source": [
    "parcel_type_r2_2014['neigh_code'] =parcel_type_r2_2014['Neighborhood Code'].str.extract('(\\d+)', expand=False)\n",
    "parcel_type_r2_2014['yr_built'] =parcel_type_r2_2014['Year Property Built'].replace(14,2014)\n",
    "parcel_type_r2_2014['yr_built'].fillna(parcel_type_r2_2014['yr_built'].median(),inplace=True)\n",
    "parcel_type_r2_2014['Construction Type'].fillna(parcel_type_r2_2014['Construction Type'].value_counts().idxmax(),inplace=True)\n",
    "parcel_type_r2_2014['Lot Code'].fillna(parcel_type_r2_2014['Lot Code'].value_counts().idxmax(),inplace=True)\n",
    "parcel_type_r2_2014['Tax Rate Area Code']=parcel_type_r2_2014['Tax Rate Area Code'].astype(str)\n",
    "parcel_type_r2_2014['Tax Rate Area Code'].replace('nan',parcel_type_r2_2014['Tax Rate Area Code'].value_counts().idxmax(),inplace=True)\n",
    "parcel_type_r2_2014['Closed Roll Assessed Fixtures Value'].unique() \n",
    "\n",
    "columns_to_use=['Block and Lot Number',\n",
    "'Property Class Code'\n",
    ",'yr_built'\n",
    ",'neigh_code'\n",
    ",'Number of Bedrooms'\n",
    ",'Number of Bathrooms'\n",
    ",'Number of Stories'\n",
    ",'Number of Rooms'\n",
    ",'Number of Units'\n",
    ",'Construction Type'\n",
    ",'Lot Depth'\n",
    ",'Lot Frontage'\n",
    ",'Basement Area'\n",
    ",'Property Area in Square Feet'\n",
    ",'Lot Area'\n",
    ",'Lot Code'\n",
    ",'Tax Rate Area Code' \n",
    ",'Percent of Ownership'\n",
    ",'Closed Roll Assessed Fixtures Value'\n",
    ",'Closed Roll Assessed Improvement Value'\n",
    ",'Closed Roll Assessed Land Value'\n",
    ",'Closed Roll Assessed Personal Prop Value'\n",
    ",'Location']\n",
    "\n",
    "parcel_main=parcel_type_r2_2014[columns_to_use]"
   ]
  },
  {
   "cell_type": "code",
   "execution_count": 29,
   "metadata": {},
   "outputs": [
    {
     "data": {
      "text/plain": [
       "(25481, 23)"
      ]
     },
     "execution_count": 29,
     "metadata": {},
     "output_type": "execute_result"
    }
   ],
   "source": [
    "parcel_main.shape"
   ]
  },
  {
   "cell_type": "code",
   "execution_count": 30,
   "metadata": {},
   "outputs": [
    {
     "name": "stdout",
     "output_type": "stream",
     "text": [
      "((25481, 45), (25481, 45))\n"
     ]
    }
   ],
   "source": [
    "#checking that every row is a unique parcel number\n",
    "print(parcel_type_r2_2014.drop_duplicates(['Block and Lot Number']).shape, parcel_type_r2_2014.shape)"
   ]
  },
  {
   "cell_type": "code",
   "execution_count": 31,
   "metadata": {},
   "outputs": [
    {
     "name": "stdout",
     "output_type": "stream",
     "text": [
      "<class 'pandas.core.frame.DataFrame'>\n",
      "RangeIndex: 25481 entries, 0 to 25480\n",
      "Data columns (total 23 columns):\n",
      "Block and Lot Number                        25481 non-null object\n",
      "Property Class Code                         25481 non-null object\n",
      "yr_built                                    25481 non-null float64\n",
      "neigh_code                                  25481 non-null object\n",
      "Number of Bedrooms                          25481 non-null int64\n",
      "Number of Bathrooms                         25481 non-null float64\n",
      "Number of Stories                           25481 non-null int64\n",
      "Number of Rooms                             25481 non-null int64\n",
      "Number of Units                             25481 non-null int64\n",
      "Construction Type                           25481 non-null object\n",
      "Lot Depth                                   25481 non-null float64\n",
      "Lot Frontage                                25481 non-null float64\n",
      "Basement Area                               25481 non-null float64\n",
      "Property Area in Square Feet                25481 non-null int64\n",
      "Lot Area                                    25481 non-null float64\n",
      "Lot Code                                    25481 non-null object\n",
      "Tax Rate Area Code                          25481 non-null object\n",
      "Percent of Ownership                        25481 non-null float64\n",
      "Closed Roll Assessed Fixtures Value         25481 non-null float64\n",
      "Closed Roll Assessed Improvement Value      25481 non-null float64\n",
      "Closed Roll Assessed Land Value             25481 non-null float64\n",
      "Closed Roll Assessed Personal Prop Value    25481 non-null float64\n",
      "Location                                    25476 non-null object\n",
      "dtypes: float64(11), int64(5), object(7)\n",
      "memory usage: 4.5+ MB\n"
     ]
    }
   ],
   "source": [
    "parcel_main.info()"
   ]
  },
  {
   "cell_type": "code",
   "execution_count": 32,
   "metadata": {},
   "outputs": [],
   "source": [
    "parcel_main_flat =pd.concat([parcel_main.drop('Property Class Code', axis=1), \n",
    "                             pd.get_dummies(parcel_main['Property Class Code'], prefix='prop_code')], axis=1)\n",
    "parcel_main_flat =pd.concat([parcel_main_flat.drop('neigh_code', axis=1), \n",
    "                             pd.get_dummies(parcel_main['neigh_code'], prefix='neigh_code')], axis=1)\n",
    "parcel_main_flat =pd.concat([parcel_main_flat.drop('Construction Type', axis=1), \n",
    "                             pd.get_dummies(parcel_main['Construction Type'], prefix='constr_code')], axis=1)\n",
    "parcel_main_flat =pd.concat([parcel_main_flat.drop('Tax Rate Area Code', axis=1), \n",
    "                             pd.get_dummies(parcel_main['Tax Rate Area Code'], prefix='tax_code')], axis=1)\n",
    "parcel_main_flat =pd.concat([parcel_main_flat.drop('Lot Code', axis=1), \n",
    "                             pd.get_dummies(parcel_main['Lot Code'], prefix='lot_code')], axis=1)\n",
    "\n",
    "#pd.get_dummies(parcel_main['Property Class Code'])"
   ]
  },
  {
   "cell_type": "code",
   "execution_count": 33,
   "metadata": {},
   "outputs": [],
   "source": [
    "parcel_main_flat.to_csv('parcel_data_clean.csv')"
   ]
  },
  {
   "cell_type": "code",
   "execution_count": 34,
   "metadata": {},
   "outputs": [
    {
     "name": "stdout",
     "output_type": "stream",
     "text": [
      "<class 'pandas.core.frame.DataFrame'>\n",
      "RangeIndex: 25481 entries, 0 to 25480\n",
      "Data columns (total 60 columns):\n",
      "Block and Lot Number                        25481 non-null object\n",
      "yr_built                                    25481 non-null float64\n",
      "Number of Bedrooms                          25481 non-null int64\n",
      "Number of Bathrooms                         25481 non-null float64\n",
      "Number of Stories                           25481 non-null int64\n",
      "Number of Rooms                             25481 non-null int64\n",
      "Number of Units                             25481 non-null int64\n",
      "Lot Depth                                   25481 non-null float64\n",
      "Lot Frontage                                25481 non-null float64\n",
      "Basement Area                               25481 non-null float64\n",
      "Property Area in Square Feet                25481 non-null int64\n",
      "Lot Area                                    25481 non-null float64\n",
      "Percent of Ownership                        25481 non-null float64\n",
      "Closed Roll Assessed Fixtures Value         25481 non-null float64\n",
      "Closed Roll Assessed Improvement Value      25481 non-null float64\n",
      "Closed Roll Assessed Land Value             25481 non-null float64\n",
      "Closed Roll Assessed Personal Prop Value    25481 non-null float64\n",
      "Location                                    25476 non-null object\n",
      "prop_code_A                                 25481 non-null uint8\n",
      "prop_code_CO                                25481 non-null uint8\n",
      "prop_code_DA                                25481 non-null uint8\n",
      "prop_code_DD                                25481 non-null uint8\n",
      "prop_code_DF                                25481 non-null uint8\n",
      "prop_code_F                                 25481 non-null uint8\n",
      "prop_code_F2                                25481 non-null uint8\n",
      "prop_code_FA                                25481 non-null uint8\n",
      "prop_code_OA                                25481 non-null uint8\n",
      "prop_code_TIA                               25481 non-null uint8\n",
      "prop_code_TIF                               25481 non-null uint8\n",
      "prop_code_XV                                25481 non-null uint8\n",
      "neigh_code_01                               25481 non-null uint8\n",
      "neigh_code_02                               25481 non-null uint8\n",
      "neigh_code_03                               25481 non-null uint8\n",
      "neigh_code_04                               25481 non-null uint8\n",
      "neigh_code_05                               25481 non-null uint8\n",
      "neigh_code_06                               25481 non-null uint8\n",
      "neigh_code_07                               25481 non-null uint8\n",
      "neigh_code_08                               25481 non-null uint8\n",
      "neigh_code_09                               25481 non-null uint8\n",
      "neigh_code_10                               25481 non-null uint8\n",
      "constr_code_A                               25481 non-null uint8\n",
      "constr_code_B                               25481 non-null uint8\n",
      "constr_code_C                               25481 non-null uint8\n",
      "constr_code_D                               25481 non-null uint8\n",
      "constr_code_F                               25481 non-null uint8\n",
      "constr_code_S                               25481 non-null uint8\n",
      "constr_code_STE                             25481 non-null uint8\n",
      "constr_code_WOO                             25481 non-null uint8\n",
      "tax_code_1000.0                             25481 non-null uint8\n",
      "tax_code_1003.0                             25481 non-null uint8\n",
      "tax_code_1004.0                             25481 non-null uint8\n",
      "tax_code_1005.0                             25481 non-null uint8\n",
      "tax_code_1007.0                             25481 non-null uint8\n",
      "tax_code_1008.0                             25481 non-null uint8\n",
      "tax_code_1018.0                             25481 non-null uint8\n",
      "tax_code_1019.0                             25481 non-null uint8\n",
      "tax_code_9000.0                             25481 non-null uint8\n",
      "lot_code_O                                  25481 non-null uint8\n",
      "lot_code_R                                  25481 non-null uint8\n",
      "lot_code_S                                  25481 non-null uint8\n",
      "dtypes: float64(11), int64(5), object(2), uint8(42)\n",
      "memory usage: 4.5+ MB\n"
     ]
    }
   ],
   "source": [
    "parcel_main_flat.info()"
   ]
  },
  {
   "cell_type": "code",
   "execution_count": null,
   "metadata": {},
   "outputs": [],
   "source": []
  }
 ],
 "metadata": {
  "kernelspec": {
   "display_name": "Python 2",
   "language": "python",
   "name": "python2"
  },
  "language_info": {
   "codemirror_mode": {
    "name": "ipython",
    "version": 2
   },
   "file_extension": ".py",
   "mimetype": "text/x-python",
   "name": "python",
   "nbconvert_exporter": "python",
   "pygments_lexer": "ipython2",
   "version": "2.7.13"
  }
 },
 "nbformat": 4,
 "nbformat_minor": 2
}
