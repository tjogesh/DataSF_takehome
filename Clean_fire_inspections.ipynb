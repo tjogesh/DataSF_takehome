{
 "cells": [
  {
   "cell_type": "code",
   "execution_count": 6,
   "metadata": {},
   "outputs": [],
   "source": [
    "%run 'Load_base_data.ipynb'"
   ]
  },
  {
   "cell_type": "code",
   "execution_count": 7,
   "metadata": {},
   "outputs": [],
   "source": [
    "import pandas as pd\n",
    "fire_inspections = pd.read_csv('RawData/Fire_Inspections.csv', low_memory=False)"
   ]
  },
  {
   "cell_type": "code",
   "execution_count": 8,
   "metadata": {},
   "outputs": [],
   "source": [
    "#get Lat Long\n",
    "fire_inspections['Lat']=fire_inspections['Location'].apply(get_latitude)\n",
    "fire_inspections['Long']=fire_inspections['Location'].apply(get_longitude)\n",
    "fire_inspections['value'] =1"
   ]
  },
  {
   "cell_type": "code",
   "execution_count": 4,
   "metadata": {},
   "outputs": [],
   "source": [
    "# convert to geo pandas\n",
    "fire_inspections['Coordinates'] = list(zip(fire_inspections.Long, fire_inspections.Lat))\n",
    "fire_inspections['Coordinates'] = fire_inspections['Coordinates'].apply(Point)"
   ]
  },
  {
   "cell_type": "code",
   "execution_count": 5,
   "metadata": {},
   "outputs": [],
   "source": [
    "#remove data with no lat long\n",
    "fire_inspections=fire_inspections.dropna(subset=['Lat','Long'])"
   ]
  },
  {
   "cell_type": "code",
   "execution_count": 6,
   "metadata": {},
   "outputs": [],
   "source": [
    "fire_inspections_main_gdf = gpd.GeoDataFrame(fire_inspections, geometry='Coordinates')"
   ]
  },
  {
   "cell_type": "code",
   "execution_count": 7,
   "metadata": {},
   "outputs": [
    {
     "name": "stdout",
     "output_type": "stream",
     "text": [
      "Warning: CRS does not match!\n"
     ]
    }
   ],
   "source": [
    "#spatial join gps \n",
    "fire_inspections_main_parcels = gpd.sjoin(fire_inspections_main_gdf, geo_loc_gdf_sub, how=\"left\", op='intersects')"
   ]
  },
  {
   "cell_type": "code",
   "execution_count": 8,
   "metadata": {},
   "outputs": [],
   "source": [
    "fire_inspections_clean = pd.DataFrame(fire_inspections_main_parcels)"
   ]
  },
  {
   "cell_type": "code",
   "execution_count": 9,
   "metadata": {},
   "outputs": [
    {
     "data": {
      "text/html": [
       "<div>\n",
       "<style scoped>\n",
       "    .dataframe tbody tr th:only-of-type {\n",
       "        vertical-align: middle;\n",
       "    }\n",
       "\n",
       "    .dataframe tbody tr th {\n",
       "        vertical-align: top;\n",
       "    }\n",
       "\n",
       "    .dataframe thead th {\n",
       "        text-align: right;\n",
       "    }\n",
       "</style>\n",
       "<table border=\"1\" class=\"dataframe\">\n",
       "  <thead>\n",
       "    <tr style=\"text-align: right;\">\n",
       "      <th>Inspection Status</th>\n",
       "      <th>blklot</th>\n",
       "      <th>completed</th>\n",
       "      <th>expired</th>\n",
       "      <th>open/follow-up needed</th>\n",
       "      <th>pending</th>\n",
       "    </tr>\n",
       "  </thead>\n",
       "  <tbody>\n",
       "    <tr>\n",
       "      <th>0</th>\n",
       "      <td>0004002</td>\n",
       "      <td>13.0</td>\n",
       "      <td>0.0</td>\n",
       "      <td>0.0</td>\n",
       "      <td>0.0</td>\n",
       "    </tr>\n",
       "    <tr>\n",
       "      <th>1</th>\n",
       "      <td>0005001</td>\n",
       "      <td>37.0</td>\n",
       "      <td>0.0</td>\n",
       "      <td>0.0</td>\n",
       "      <td>8.0</td>\n",
       "    </tr>\n",
       "    <tr>\n",
       "      <th>2</th>\n",
       "      <td>0006001</td>\n",
       "      <td>38.0</td>\n",
       "      <td>0.0</td>\n",
       "      <td>0.0</td>\n",
       "      <td>4.0</td>\n",
       "    </tr>\n",
       "    <tr>\n",
       "      <th>3</th>\n",
       "      <td>0007001</td>\n",
       "      <td>36.0</td>\n",
       "      <td>0.0</td>\n",
       "      <td>0.0</td>\n",
       "      <td>5.0</td>\n",
       "    </tr>\n",
       "    <tr>\n",
       "      <th>4</th>\n",
       "      <td>0010001</td>\n",
       "      <td>67.0</td>\n",
       "      <td>0.0</td>\n",
       "      <td>4.0</td>\n",
       "      <td>9.0</td>\n",
       "    </tr>\n",
       "  </tbody>\n",
       "</table>\n",
       "</div>"
      ],
      "text/plain": [
       "Inspection Status   blklot  completed  expired  open/follow-up needed  pending\n",
       "0                  0004002       13.0      0.0                    0.0      0.0\n",
       "1                  0005001       37.0      0.0                    0.0      8.0\n",
       "2                  0006001       38.0      0.0                    0.0      4.0\n",
       "3                  0007001       36.0      0.0                    0.0      5.0\n",
       "4                  0010001       67.0      0.0                    4.0      9.0"
      ]
     },
     "execution_count": 9,
     "metadata": {},
     "output_type": "execute_result"
    }
   ],
   "source": [
    "#code the status of inspections to parcel and then elongate so that each inspection type is its own column\n",
    "fire_inspection_status =fire_inspections_clean[['Inspection Status','blklot','value']].groupby(['blklot','Inspection Status']).agg('count')\n",
    "fire_inspection_status.reset_index(inplace=True)\n",
    "fire_inspection_status.head()\n",
    "\n",
    "fire_inspection_status_long=fire_inspection_status.pivot_table(index=['blklot'],columns='Inspection Status', values='value')\n",
    "fire_inspection_status_long.fillna(0, inplace=True)\n",
    "fire_inspection_status_long.reset_index(inplace=True)\n",
    "fire_inspection_status_long.head()"
   ]
  },
  {
   "cell_type": "code",
   "execution_count": 11,
   "metadata": {},
   "outputs": [],
   "source": [
    "#code the referral agency to parcel and then elongate so that each referral agency is its own column\n",
    "fire_inspection_referag =fire_inspections_clean[['Referral Agency','blklot','value']].groupby(['blklot','Referral Agency']).agg('count')\n",
    "fire_inspection_referag.reset_index(inplace=True)\n",
    "fire_inspection_referag.head()\n",
    "\n",
    "fire_inspection_referag_long=fire_inspection_referag.pivot_table(index=['blklot'],columns='Referral Agency', values='value')\n",
    "fire_inspection_referag_long.fillna(0, inplace=True)\n",
    "fire_inspection_referag_long.reset_index(inplace=True)\n",
    "fire_inspection_referag_long.head()\n",
    "\n",
    "fire_inspections_main= fire_inspection_status_long.merge(fire_inspection_referag_long, left_on=['blklot'], \n",
    "                                                      right_on=['blklot'], how='left')"
   ]
  },
  {
   "cell_type": "code",
   "execution_count": 12,
   "metadata": {},
   "outputs": [],
   "source": [
    "#code the inspection description to parcel and then elongate so that each inspection description is its own column\n",
    "fire_inspection_insp_desc =fire_inspections_clean[['Inspection Type Description','blklot','value']].groupby(['blklot','Inspection Type Description']).agg('count')\n",
    "fire_inspection_insp_desc.reset_index(inplace=True)\n",
    "fire_inspection_insp_desc.head()\n",
    "\n",
    "\n",
    "fire_inspection_insp_desc_long=fire_inspection_insp_desc.pivot_table(index=['blklot'],columns='Inspection Type Description', values='value')\n",
    "fire_inspection_insp_desc_long.fillna(0, inplace=True)\n",
    "fire_inspection_insp_desc_long.reset_index(inplace=True)\n",
    "fire_inspection_insp_desc_long.head()\n",
    "\n",
    "\n",
    "fire_inspections_main= fire_inspections_main.merge(fire_inspection_insp_desc_long, left_on=['blklot'], \n",
    "                                                      right_on=['blklot'], how='left')"
   ]
  },
  {
   "cell_type": "code",
   "execution_count": 15,
   "metadata": {},
   "outputs": [],
   "source": [
    "#summarize numerical values per parcel\n",
    "#Invoice Amount\n",
    "#Fee\n",
    "#Penalty Amount\n",
    "#Posting Fee\n",
    "#Paid Amount\n",
    "#Interest Amount\n",
    "fire_inspection_subset =fire_inspections_clean[['Invoice Amount',\n",
    "                                           'Fee',\n",
    "                                           'Penalty Amount',\n",
    "                                           'Posting Fee',\n",
    "                                           'Paid Amount',\n",
    "                                           'Interest Amount',\n",
    "                                           'blklot']].fillna(0)\n",
    "fire_inspection_summary= fire_inspection_subset.groupby(['blklot']).agg('sum')\n",
    "fire_inspection_summary.reset_index(inplace=True)\n",
    "fire_inspection_summary.head()\n",
    "\n",
    "\n",
    "\n",
    "fire_inspections_main= fire_inspections_main.merge(fire_inspection_summary, left_on=['blklot'], \n",
    "                                                      right_on=['blklot'], how='left')\n"
   ]
  },
  {
   "cell_type": "code",
   "execution_count": 17,
   "metadata": {},
   "outputs": [],
   "source": [
    "R2Parcel = pd.read_csv('residential_units.csv')"
   ]
  },
  {
   "cell_type": "code",
   "execution_count": 18,
   "metadata": {},
   "outputs": [],
   "source": [
    "#combine with residential data so that only save data for r2 buildings\n",
    "fire_inspections_clean_test = R2Parcel.merge(fire_inspections_main,left_on=['Block and Lot Number'], \n",
    "                                                      right_on=['blklot'], how='inner')"
   ]
  },
  {
   "cell_type": "code",
   "execution_count": 19,
   "metadata": {},
   "outputs": [],
   "source": [
    "#save clean dataset\n",
    "fire_inspections_clean_test.to_csv('fire_inspections_clean.csv')"
   ]
  },
  {
   "cell_type": "code",
   "execution_count": 20,
   "metadata": {},
   "outputs": [
    {
     "data": {
      "text/plain": [
       "(3305, 97)"
      ]
     },
     "execution_count": 20,
     "metadata": {},
     "output_type": "execute_result"
    }
   ],
   "source": [
    "fire_inspections_clean_test.shape"
   ]
  },
  {
   "cell_type": "code",
   "execution_count": 22,
   "metadata": {},
   "outputs": [
    {
     "name": "stdout",
     "output_type": "stream",
     "text": [
      "(3305, 97)\n",
      "(3305, 1)\n"
     ]
    }
   ],
   "source": [
    "#check for duplicates\n",
    "print(fire_inspections_clean_test.shape)\n",
    "print(fire_inspections_clean_test[['blklot']].drop_duplicates(['blklot']).shape)"
   ]
  },
  {
   "cell_type": "markdown",
   "metadata": {},
   "source": [
    "### Inspections per year for data viz"
   ]
  },
  {
   "cell_type": "code",
   "execution_count": 21,
   "metadata": {},
   "outputs": [],
   "source": [
    "#get summary per year for ploting \n",
    "\n",
    "fire_inspections['Inspection Start Date']=pd.to_datetime(fire_inspections['Inspection Start Date'],format='%m/%d/%Y')\n",
    "fire_inspections['Year']=fire_inspections['Inspection Start Date'].apply(lambda x: x.year)\n",
    "fire_inspections['Num_inspections']=1\n",
    "fireinsp =fire_inspections[['Year','Num_inspections']].groupby('Year').agg(sum)\n",
    "fireinsp.reset_index(inplace=True)\n",
    "fireinsp.to_csv('fire_inspections_per_year.csv')"
   ]
  }
 ],
 "metadata": {
  "kernelspec": {
   "display_name": "Python 2",
   "language": "python",
   "name": "python2"
  },
  "language_info": {
   "codemirror_mode": {
    "name": "ipython",
    "version": 2
   },
   "file_extension": ".py",
   "mimetype": "text/x-python",
   "name": "python",
   "nbconvert_exporter": "python",
   "pygments_lexer": "ipython2",
   "version": "2.7.13"
  }
 },
 "nbformat": 4,
 "nbformat_minor": 2
}
