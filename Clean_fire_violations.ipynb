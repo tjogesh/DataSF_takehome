{
 "cells": [
  {
   "cell_type": "markdown",
   "metadata": {},
   "source": [
    "## Clean fire_violations data"
   ]
  },
  {
   "cell_type": "code",
   "execution_count": 2,
   "metadata": {},
   "outputs": [],
   "source": [
    "%run 'Load_base_data.ipynb'"
   ]
  },
  {
   "cell_type": "code",
   "execution_count": 3,
   "metadata": {},
   "outputs": [],
   "source": [
    "fire_violations = pd.read_csv('RawData/Fire_Violations.csv', low_memory=False)"
   ]
  },
  {
   "cell_type": "code",
   "execution_count": 4,
   "metadata": {},
   "outputs": [],
   "source": [
    "fire_violations['Lat']=fire_violations['Location'].apply(get_latitude)\n",
    "fire_violations['Long']=fire_violations['Location'].apply(get_longitude)\n",
    "fire_violations['value'] =1"
   ]
  },
  {
   "cell_type": "code",
   "execution_count": 5,
   "metadata": {},
   "outputs": [],
   "source": [
    "# convert to geopandas file type\n",
    "fire_violations['Coordinates'] = list(zip(fire_violations.Long, fire_violations.Lat))\n",
    "fire_violations['Coordinates'] = fire_violations['Coordinates'].apply(Point)"
   ]
  },
  {
   "cell_type": "code",
   "execution_count": 8,
   "metadata": {},
   "outputs": [],
   "source": [
    "#remove data with no lat long\n",
    "fire_violations=fire_violations.dropna(subset=['Lat','Long'])"
   ]
  },
  {
   "cell_type": "code",
   "execution_count": 9,
   "metadata": {},
   "outputs": [],
   "source": [
    "fire_violations_main_gdf = gpd.GeoDataFrame(fire_violations, geometry='Coordinates')"
   ]
  },
  {
   "cell_type": "code",
   "execution_count": 10,
   "metadata": {},
   "outputs": [
    {
     "name": "stdout",
     "output_type": "stream",
     "text": [
      "Warning: CRS does not match!\n"
     ]
    }
   ],
   "source": [
    "#spatial join gps \n",
    "fire_violations_main_parcels = gpd.sjoin(fire_violations_main_gdf, geo_loc_gdf_sub, op='intersects', how='inner')"
   ]
  },
  {
   "cell_type": "code",
   "execution_count": 11,
   "metadata": {},
   "outputs": [],
   "source": [
    "fire_violations_clean = pd.DataFrame(fire_violations_main_parcels)"
   ]
  },
  {
   "cell_type": "code",
   "execution_count": null,
   "metadata": {},
   "outputs": [],
   "source": [
    "# counting the number of different violation types per address\n",
    "\n",
    "#fire_violation_items =fire_violations[['Address','Violation Item','Lat','Long','value']].groupby(['Address','Lat','Long','Violation Item']).agg('count')\n",
    "#fire_violation_items.reset_index(inplace=True)\n",
    "\n",
    "#converting to wide format so each item is a feature\n",
    "#fire_violation_items_long=fire_violation_items.pivot(index='Address',columns='Violation Item', values='value')\n",
    "#fire_violation_items_long.fillna(0, inplace=True)\n",
    "#fire_violation_items_long.reset_index(inplace=True)\n",
    "#fire_violation_items_long.head()"
   ]
  },
  {
   "cell_type": "code",
   "execution_count": 16,
   "metadata": {},
   "outputs": [
    {
     "data": {
      "text/plain": [
       "(33204, 2)"
      ]
     },
     "execution_count": 16,
     "metadata": {},
     "output_type": "execute_result"
    }
   ],
   "source": [
    "#code the number of violations total per parcel \n",
    "fire_violation_num =fire_violations_clean[['Violation Number','blklot']].groupby(['blklot']).agg('count')\n",
    "fire_violation_num.reset_index(inplace=True)\n",
    "fire_violation_num.shape"
   ]
  },
  {
   "cell_type": "code",
   "execution_count": 17,
   "metadata": {},
   "outputs": [],
   "source": [
    "#code the number of corrective actions per parcel\n",
    "fire_violation_corrective =fire_violations_clean[['Corrective Action','blklot','value']].groupby(['blklot','Corrective Action']).agg('count')\n",
    "fire_violation_corrective.reset_index(inplace=True)\n",
    "fire_violation_corrective.head()\n",
    "\n",
    "fire_violation_corrective_long=fire_violation_corrective.pivot_table(index=['blklot'],columns='Corrective Action', values='value')\n",
    "fire_violation_corrective_long.fillna(0, inplace=True)\n",
    "fire_violation_corrective_long.reset_index(inplace=True)\n",
    "\n",
    "fire_violations_main= fire_violation_num.merge(fire_violation_corrective_long, left_on=['blklot'], \n",
    "                                                      right_on=['blklot'], how='left')\n",
    "#fire_violations_main.head()"
   ]
  },
  {
   "cell_type": "code",
   "execution_count": 18,
   "metadata": {},
   "outputs": [],
   "source": [
    "#code the status of violations per parcel\n",
    "fire_violation_status =fire_violations_clean[['Status','blklot','value']].groupby(['blklot','Status']).agg('count')\n",
    "fire_violation_status.reset_index(inplace=True)\n",
    "fire_violation_status.head()\n",
    "\n",
    "fire_violation_status_long=fire_violation_status.pivot_table(index=['blklot'],columns='Status', values='value')\n",
    "fire_violation_status_long.fillna(0, inplace=True)\n",
    "fire_violation_status_long.reset_index(inplace=True)\n",
    "fire_violation_status_long.head()\n",
    "\n",
    "fire_violations_main= fire_violations_main.merge(fire_violation_status_long, left_on=['blklot'], \n",
    "                                                      right_on=['blklot'], how='left')"
   ]
  },
  {
   "cell_type": "code",
   "execution_count": 19,
   "metadata": {},
   "outputs": [
    {
     "data": {
      "text/html": [
       "<div>\n",
       "<style scoped>\n",
       "    .dataframe tbody tr th:only-of-type {\n",
       "        vertical-align: middle;\n",
       "    }\n",
       "\n",
       "    .dataframe tbody tr th {\n",
       "        vertical-align: top;\n",
       "    }\n",
       "\n",
       "    .dataframe thead th {\n",
       "        text-align: right;\n",
       "    }\n",
       "</style>\n",
       "<table border=\"1\" class=\"dataframe\">\n",
       "  <thead>\n",
       "    <tr style=\"text-align: right;\">\n",
       "      <th></th>\n",
       "      <th>blklot</th>\n",
       "      <th>Violation Number</th>\n",
       "      <th>correct - no permit</th>\n",
       "      <th>obtain permit</th>\n",
       "      <th>stop all work</th>\n",
       "      <th>abated</th>\n",
       "      <th>closed</th>\n",
       "      <th>open</th>\n",
       "      <th>referred to hearing</th>\n",
       "      <th>rescinded</th>\n",
       "    </tr>\n",
       "  </thead>\n",
       "  <tbody>\n",
       "    <tr>\n",
       "      <th>0</th>\n",
       "      <td>0004002</td>\n",
       "      <td>1</td>\n",
       "      <td>1.0</td>\n",
       "      <td>0.0</td>\n",
       "      <td>0.0</td>\n",
       "      <td>0.0</td>\n",
       "      <td>1.0</td>\n",
       "      <td>0.0</td>\n",
       "      <td>0.0</td>\n",
       "      <td>0.0</td>\n",
       "    </tr>\n",
       "    <tr>\n",
       "      <th>1</th>\n",
       "      <td>0005001</td>\n",
       "      <td>5</td>\n",
       "      <td>3.0</td>\n",
       "      <td>0.0</td>\n",
       "      <td>0.0</td>\n",
       "      <td>0.0</td>\n",
       "      <td>5.0</td>\n",
       "      <td>0.0</td>\n",
       "      <td>0.0</td>\n",
       "      <td>0.0</td>\n",
       "    </tr>\n",
       "    <tr>\n",
       "      <th>2</th>\n",
       "      <td>0007001</td>\n",
       "      <td>4</td>\n",
       "      <td>4.0</td>\n",
       "      <td>0.0</td>\n",
       "      <td>0.0</td>\n",
       "      <td>0.0</td>\n",
       "      <td>0.0</td>\n",
       "      <td>4.0</td>\n",
       "      <td>0.0</td>\n",
       "      <td>0.0</td>\n",
       "    </tr>\n",
       "    <tr>\n",
       "      <th>3</th>\n",
       "      <td>0010001</td>\n",
       "      <td>4</td>\n",
       "      <td>1.0</td>\n",
       "      <td>1.0</td>\n",
       "      <td>0.0</td>\n",
       "      <td>0.0</td>\n",
       "      <td>4.0</td>\n",
       "      <td>0.0</td>\n",
       "      <td>0.0</td>\n",
       "      <td>0.0</td>\n",
       "    </tr>\n",
       "    <tr>\n",
       "      <th>4</th>\n",
       "      <td>0011007</td>\n",
       "      <td>1</td>\n",
       "      <td>0.0</td>\n",
       "      <td>0.0</td>\n",
       "      <td>0.0</td>\n",
       "      <td>1.0</td>\n",
       "      <td>0.0</td>\n",
       "      <td>0.0</td>\n",
       "      <td>0.0</td>\n",
       "      <td>0.0</td>\n",
       "    </tr>\n",
       "  </tbody>\n",
       "</table>\n",
       "</div>"
      ],
      "text/plain": [
       "    blklot  Violation Number  correct - no permit  obtain permit  \\\n",
       "0  0004002                 1                  1.0            0.0   \n",
       "1  0005001                 5                  3.0            0.0   \n",
       "2  0007001                 4                  4.0            0.0   \n",
       "3  0010001                 4                  1.0            1.0   \n",
       "4  0011007                 1                  0.0            0.0   \n",
       "\n",
       "   stop all work  abated  closed  open  referred to hearing  rescinded  \n",
       "0            0.0     0.0     1.0   0.0                  0.0        0.0  \n",
       "1            0.0     0.0     5.0   0.0                  0.0        0.0  \n",
       "2            0.0     0.0     0.0   4.0                  0.0        0.0  \n",
       "3            0.0     0.0     4.0   0.0                  0.0        0.0  \n",
       "4            0.0     1.0     0.0   0.0                  0.0        0.0  "
      ]
     },
     "execution_count": 19,
     "metadata": {},
     "output_type": "execute_result"
    }
   ],
   "source": [
    "fire_violations_main.fillna(0, inplace=True)\n",
    "fire_violations_main.head()"
   ]
  },
  {
   "cell_type": "code",
   "execution_count": 20,
   "metadata": {},
   "outputs": [],
   "source": [
    "R2Parcel = pd.read_csv('residential_units.csv')"
   ]
  },
  {
   "cell_type": "code",
   "execution_count": 24,
   "metadata": {},
   "outputs": [],
   "source": [
    "#merge with residential data to only get data only r2 buildings\n",
    "fire_violations_clean_test = R2Parcel.merge(fire_violations_main,left_on=['Block and Lot Number'], \n",
    "                                                      right_on=['blklot'], how='inner')"
   ]
  },
  {
   "cell_type": "code",
   "execution_count": 25,
   "metadata": {},
   "outputs": [
    {
     "data": {
      "text/plain": [
       "(775, 14)"
      ]
     },
     "execution_count": 25,
     "metadata": {},
     "output_type": "execute_result"
    }
   ],
   "source": [
    "fire_violations_clean_test.shape"
   ]
  },
  {
   "cell_type": "code",
   "execution_count": 26,
   "metadata": {},
   "outputs": [
    {
     "name": "stdout",
     "output_type": "stream",
     "text": [
      "(775, 14)\n",
      "(775, 1)\n"
     ]
    }
   ],
   "source": [
    "#check for duplicates\n",
    "print(fire_violations_clean_test.shape)\n",
    "print(fire_violations_clean_test[['blklot']].drop_duplicates(['blklot']).shape)"
   ]
  },
  {
   "cell_type": "code",
   "execution_count": 27,
   "metadata": {},
   "outputs": [],
   "source": [
    "fire_violations_clean_test.to_csv('fire_violations_clean.csv')"
   ]
  }
 ],
 "metadata": {
  "kernelspec": {
   "display_name": "Python 2",
   "language": "python",
   "name": "python2"
  },
  "language_info": {
   "codemirror_mode": {
    "name": "ipython",
    "version": 2
   },
   "file_extension": ".py",
   "mimetype": "text/x-python",
   "name": "python",
   "nbconvert_exporter": "python",
   "pygments_lexer": "ipython2",
   "version": "2.7.13"
  }
 },
 "nbformat": 4,
 "nbformat_minor": 2
}
