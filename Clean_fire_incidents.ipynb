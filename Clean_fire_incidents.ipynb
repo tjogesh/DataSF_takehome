{
 "cells": [
  {
   "cell_type": "code",
   "execution_count": 1,
   "metadata": {},
   "outputs": [],
   "source": [
    "%run 'Load_base_data.ipynb'"
   ]
  },
  {
   "cell_type": "code",
   "execution_count": 2,
   "metadata": {},
   "outputs": [],
   "source": [
    "fire_incidents = pd.read_csv('RawData/Fire_Incidents.csv', low_memory=False)"
   ]
  },
  {
   "cell_type": "code",
   "execution_count": 3,
   "metadata": {},
   "outputs": [
    {
     "data": {
      "text/html": [
       "<div>\n",
       "<style scoped>\n",
       "    .dataframe tbody tr th:only-of-type {\n",
       "        vertical-align: middle;\n",
       "    }\n",
       "\n",
       "    .dataframe tbody tr th {\n",
       "        vertical-align: top;\n",
       "    }\n",
       "\n",
       "    .dataframe thead th {\n",
       "        text-align: right;\n",
       "    }\n",
       "</style>\n",
       "<table border=\"1\" class=\"dataframe\">\n",
       "  <thead>\n",
       "    <tr style=\"text-align: right;\">\n",
       "      <th></th>\n",
       "      <th>Incident Number</th>\n",
       "      <th>Exposure Number</th>\n",
       "      <th>Address</th>\n",
       "      <th>Incident Date</th>\n",
       "      <th>Call Number</th>\n",
       "      <th>Alarm DtTm</th>\n",
       "      <th>Arrival DtTm</th>\n",
       "      <th>Close DtTm</th>\n",
       "      <th>City</th>\n",
       "      <th>Zipcode</th>\n",
       "      <th>...</th>\n",
       "      <th>Detector Effectiveness</th>\n",
       "      <th>Detector Failure Reason</th>\n",
       "      <th>Automatic Extinguishing System Present</th>\n",
       "      <th>Automatic Extinguishing Sytem Type</th>\n",
       "      <th>Automatic Extinguishing Sytem Perfomance</th>\n",
       "      <th>Automatic Extinguishing Sytem Failure Reason</th>\n",
       "      <th>Number of Sprinkler Heads Operating</th>\n",
       "      <th>Supervisor District</th>\n",
       "      <th>Neighborhood  District</th>\n",
       "      <th>Location</th>\n",
       "    </tr>\n",
       "  </thead>\n",
       "  <tbody>\n",
       "    <tr>\n",
       "      <th>0</th>\n",
       "      <td>9030109</td>\n",
       "      <td>0</td>\n",
       "      <td>310 Colon Av.</td>\n",
       "      <td>04/12/2009</td>\n",
       "      <td>91020273</td>\n",
       "      <td>04/12/2009 06:09:13 PM</td>\n",
       "      <td>04/12/2009 06:13:45 PM</td>\n",
       "      <td>04/12/2009 07:23:13 PM</td>\n",
       "      <td>SF</td>\n",
       "      <td>NaN</td>\n",
       "      <td>...</td>\n",
       "      <td>NaN</td>\n",
       "      <td>NaN</td>\n",
       "      <td>NaN</td>\n",
       "      <td>NaN</td>\n",
       "      <td>NaN</td>\n",
       "      <td>NaN</td>\n",
       "      <td>NaN</td>\n",
       "      <td>NaN</td>\n",
       "      <td>NaN</td>\n",
       "      <td>NaN</td>\n",
       "    </tr>\n",
       "    <tr>\n",
       "      <th>1</th>\n",
       "      <td>13067402</td>\n",
       "      <td>0</td>\n",
       "      <td>20 Lansdale Av</td>\n",
       "      <td>07/18/2013</td>\n",
       "      <td>131990117</td>\n",
       "      <td>07/18/2013 10:32:03 AM</td>\n",
       "      <td>07/18/2013 10:37:15 AM</td>\n",
       "      <td>07/18/2013 10:39:55 AM</td>\n",
       "      <td>SF</td>\n",
       "      <td>NaN</td>\n",
       "      <td>...</td>\n",
       "      <td>NaN</td>\n",
       "      <td>NaN</td>\n",
       "      <td>NaN</td>\n",
       "      <td>NaN</td>\n",
       "      <td>NaN</td>\n",
       "      <td>NaN</td>\n",
       "      <td>NaN</td>\n",
       "      <td>NaN</td>\n",
       "      <td>NaN</td>\n",
       "      <td>NaN</td>\n",
       "    </tr>\n",
       "    <tr>\n",
       "      <th>2</th>\n",
       "      <td>12044490</td>\n",
       "      <td>0</td>\n",
       "      <td>7th St. / Folsom St.</td>\n",
       "      <td>05/13/2012</td>\n",
       "      <td>121340051</td>\n",
       "      <td>05/13/2012 03:55:37 AM</td>\n",
       "      <td>05/13/2012 04:01:57 AM</td>\n",
       "      <td>05/13/2012 04:05:44 AM</td>\n",
       "      <td>SF</td>\n",
       "      <td>94103.0</td>\n",
       "      <td>...</td>\n",
       "      <td>NaN</td>\n",
       "      <td>NaN</td>\n",
       "      <td>NaN</td>\n",
       "      <td>NaN</td>\n",
       "      <td>NaN</td>\n",
       "      <td>NaN</td>\n",
       "      <td>NaN</td>\n",
       "      <td>6.0</td>\n",
       "      <td>South of Market</td>\n",
       "      <td>(37.7767460000297, -122.407844)</td>\n",
       "    </tr>\n",
       "    <tr>\n",
       "      <th>3</th>\n",
       "      <td>13033326</td>\n",
       "      <td>0</td>\n",
       "      <td>2799 Pacific Av</td>\n",
       "      <td>04/09/2013</td>\n",
       "      <td>130990286</td>\n",
       "      <td>04/09/2013 04:34:07 PM</td>\n",
       "      <td>04/09/2013 04:39:31 PM</td>\n",
       "      <td>04/09/2013 05:20:27 PM</td>\n",
       "      <td>SF</td>\n",
       "      <td>NaN</td>\n",
       "      <td>...</td>\n",
       "      <td>NaN</td>\n",
       "      <td>NaN</td>\n",
       "      <td>NaN</td>\n",
       "      <td>NaN</td>\n",
       "      <td>NaN</td>\n",
       "      <td>NaN</td>\n",
       "      <td>NaN</td>\n",
       "      <td>NaN</td>\n",
       "      <td>NaN</td>\n",
       "      <td>NaN</td>\n",
       "    </tr>\n",
       "    <tr>\n",
       "      <th>4</th>\n",
       "      <td>11101416</td>\n",
       "      <td>0</td>\n",
       "      <td>Polk St. / Pine St.</td>\n",
       "      <td>11/01/2011</td>\n",
       "      <td>113050357</td>\n",
       "      <td>11/01/2011 06:07:45 PM</td>\n",
       "      <td>11/01/2011 06:10:17 PM</td>\n",
       "      <td>11/01/2011 06:11:09 PM</td>\n",
       "      <td>SF</td>\n",
       "      <td>94109.0</td>\n",
       "      <td>...</td>\n",
       "      <td>NaN</td>\n",
       "      <td>NaN</td>\n",
       "      <td>NaN</td>\n",
       "      <td>NaN</td>\n",
       "      <td>NaN</td>\n",
       "      <td>NaN</td>\n",
       "      <td>NaN</td>\n",
       "      <td>3.0</td>\n",
       "      <td>Nob Hill</td>\n",
       "      <td>(37.7896190000297, -122.420497)</td>\n",
       "    </tr>\n",
       "  </tbody>\n",
       "</table>\n",
       "<p>5 rows × 63 columns</p>\n",
       "</div>"
      ],
      "text/plain": [
       "   Incident Number  Exposure Number               Address Incident Date  \\\n",
       "0          9030109                0         310 Colon Av.    04/12/2009   \n",
       "1         13067402                0        20 Lansdale Av    07/18/2013   \n",
       "2         12044490                0  7th St. / Folsom St.    05/13/2012   \n",
       "3         13033326                0       2799 Pacific Av    04/09/2013   \n",
       "4         11101416                0   Polk St. / Pine St.    11/01/2011   \n",
       "\n",
       "   Call Number              Alarm DtTm            Arrival DtTm  \\\n",
       "0     91020273  04/12/2009 06:09:13 PM  04/12/2009 06:13:45 PM   \n",
       "1    131990117  07/18/2013 10:32:03 AM  07/18/2013 10:37:15 AM   \n",
       "2    121340051  05/13/2012 03:55:37 AM  05/13/2012 04:01:57 AM   \n",
       "3    130990286  04/09/2013 04:34:07 PM  04/09/2013 04:39:31 PM   \n",
       "4    113050357  11/01/2011 06:07:45 PM  11/01/2011 06:10:17 PM   \n",
       "\n",
       "               Close DtTm City  Zipcode               ...                 \\\n",
       "0  04/12/2009 07:23:13 PM   SF      NaN               ...                  \n",
       "1  07/18/2013 10:39:55 AM   SF      NaN               ...                  \n",
       "2  05/13/2012 04:05:44 AM   SF  94103.0               ...                  \n",
       "3  04/09/2013 05:20:27 PM   SF      NaN               ...                  \n",
       "4  11/01/2011 06:11:09 PM   SF  94109.0               ...                  \n",
       "\n",
       "  Detector Effectiveness Detector Failure Reason  \\\n",
       "0                    NaN                     NaN   \n",
       "1                    NaN                     NaN   \n",
       "2                    NaN                     NaN   \n",
       "3                    NaN                     NaN   \n",
       "4                    NaN                     NaN   \n",
       "\n",
       "  Automatic Extinguishing System Present  Automatic Extinguishing Sytem Type  \\\n",
       "0                                    NaN                                 NaN   \n",
       "1                                    NaN                                 NaN   \n",
       "2                                    NaN                                 NaN   \n",
       "3                                    NaN                                 NaN   \n",
       "4                                    NaN                                 NaN   \n",
       "\n",
       "   Automatic Extinguishing Sytem Perfomance  \\\n",
       "0                                       NaN   \n",
       "1                                       NaN   \n",
       "2                                       NaN   \n",
       "3                                       NaN   \n",
       "4                                       NaN   \n",
       "\n",
       "   Automatic Extinguishing Sytem Failure Reason  \\\n",
       "0                                           NaN   \n",
       "1                                           NaN   \n",
       "2                                           NaN   \n",
       "3                                           NaN   \n",
       "4                                           NaN   \n",
       "\n",
       "   Number of Sprinkler Heads Operating  Supervisor District  \\\n",
       "0                                  NaN                  NaN   \n",
       "1                                  NaN                  NaN   \n",
       "2                                  NaN                  6.0   \n",
       "3                                  NaN                  NaN   \n",
       "4                                  NaN                  3.0   \n",
       "\n",
       "   Neighborhood  District                         Location  \n",
       "0                     NaN                              NaN  \n",
       "1                     NaN                              NaN  \n",
       "2         South of Market  (37.7767460000297, -122.407844)  \n",
       "3                     NaN                              NaN  \n",
       "4                Nob Hill  (37.7896190000297, -122.420497)  \n",
       "\n",
       "[5 rows x 63 columns]"
      ]
     },
     "execution_count": 3,
     "metadata": {},
     "output_type": "execute_result"
    }
   ],
   "source": [
    "fire_incidents.head()"
   ]
  },
  {
   "cell_type": "code",
   "execution_count": 5,
   "metadata": {},
   "outputs": [],
   "source": [
    "fire_incidents['Fire Code'] =fire_incidents['Primary Situation'].str.extract('(\\d+)', expand=False)"
   ]
  },
  {
   "cell_type": "code",
   "execution_count": 6,
   "metadata": {},
   "outputs": [],
   "source": [
    "#subset the data so that only buildings on fire are in this dataset-- that the positive class for the classifiction model\n",
    "fire_incidents_building_fires = fire_incidents[(fire_incidents['Fire Code']=='111')]"
   ]
  },
  {
   "cell_type": "code",
   "execution_count": 7,
   "metadata": {},
   "outputs": [
    {
     "data": {
      "text/plain": [
       "(6467, 64)"
      ]
     },
     "execution_count": 7,
     "metadata": {},
     "output_type": "execute_result"
    }
   ],
   "source": [
    "fire_incidents_building_fires.shape"
   ]
  },
  {
   "cell_type": "code",
   "execution_count": 8,
   "metadata": {},
   "outputs": [
    {
     "name": "stderr",
     "output_type": "stream",
     "text": [
      "/Users/taniajogesh/anaconda/lib/python2.7/site-packages/ipykernel/__main__.py:1: SettingWithCopyWarning: \n",
      "A value is trying to be set on a copy of a slice from a DataFrame.\n",
      "Try using .loc[row_indexer,col_indexer] = value instead\n",
      "\n",
      "See the caveats in the documentation: http://pandas.pydata.org/pandas-docs/stable/indexing.html#indexing-view-versus-copy\n",
      "  if __name__ == '__main__':\n",
      "/Users/taniajogesh/anaconda/lib/python2.7/site-packages/ipykernel/__main__.py:2: SettingWithCopyWarning: \n",
      "A value is trying to be set on a copy of a slice from a DataFrame.\n",
      "Try using .loc[row_indexer,col_indexer] = value instead\n",
      "\n",
      "See the caveats in the documentation: http://pandas.pydata.org/pandas-docs/stable/indexing.html#indexing-view-versus-copy\n",
      "  from ipykernel import kernelapp as app\n",
      "/Users/taniajogesh/anaconda/lib/python2.7/site-packages/ipykernel/__main__.py:3: SettingWithCopyWarning: \n",
      "A value is trying to be set on a copy of a slice from a DataFrame.\n",
      "Try using .loc[row_indexer,col_indexer] = value instead\n",
      "\n",
      "See the caveats in the documentation: http://pandas.pydata.org/pandas-docs/stable/indexing.html#indexing-view-versus-copy\n",
      "  app.launch_new_instance()\n"
     ]
    }
   ],
   "source": [
    "# get Lat/Long\n",
    "fire_incidents_building_fires['Lat']=fire_incidents_building_fires['Location'].apply(get_latitude)\n",
    "fire_incidents_building_fires['Long']=fire_incidents_building_fires['Location'].apply(get_longitude)\n",
    "fire_incidents_building_fires['BuildingFire'] =1 # response variable "
   ]
  },
  {
   "cell_type": "code",
   "execution_count": 9,
   "metadata": {},
   "outputs": [
    {
     "name": "stderr",
     "output_type": "stream",
     "text": [
      "/Users/taniajogesh/anaconda/lib/python2.7/site-packages/ipykernel/__main__.py:2: SettingWithCopyWarning: \n",
      "A value is trying to be set on a copy of a slice from a DataFrame.\n",
      "Try using .loc[row_indexer,col_indexer] = value instead\n",
      "\n",
      "See the caveats in the documentation: http://pandas.pydata.org/pandas-docs/stable/indexing.html#indexing-view-versus-copy\n",
      "  from ipykernel import kernelapp as app\n",
      "/Users/taniajogesh/anaconda/lib/python2.7/site-packages/ipykernel/__main__.py:3: SettingWithCopyWarning: \n",
      "A value is trying to be set on a copy of a slice from a DataFrame.\n",
      "Try using .loc[row_indexer,col_indexer] = value instead\n",
      "\n",
      "See the caveats in the documentation: http://pandas.pydata.org/pandas-docs/stable/indexing.html#indexing-view-versus-copy\n",
      "  app.launch_new_instance()\n"
     ]
    }
   ],
   "source": [
    "# convert to geopandas df\n",
    "fire_incidents_building_fires['Coordinates'] = list(zip(fire_incidents_building_fires.Long, \n",
    "                                                      fire_incidents_building_fires.Lat))\n",
    "fire_incidents_building_fires['Coordinates'] = fire_incidents_building_fires['Coordinates'].apply(Point)"
   ]
  },
  {
   "cell_type": "code",
   "execution_count": 11,
   "metadata": {},
   "outputs": [],
   "source": [
    "#remove datapoints without Lat/Long\n",
    "fire_incidents_main=fire_incidents_building_fires.dropna(subset=['Lat','Long'])"
   ]
  },
  {
   "cell_type": "code",
   "execution_count": 12,
   "metadata": {},
   "outputs": [
    {
     "data": {
      "text/plain": [
       "(5110, 68)"
      ]
     },
     "execution_count": 12,
     "metadata": {},
     "output_type": "execute_result"
    }
   ],
   "source": [
    "fire_incidents_main.shape"
   ]
  },
  {
   "cell_type": "code",
   "execution_count": 13,
   "metadata": {},
   "outputs": [],
   "source": [
    "fire_incidents_main_gdf = gpd.GeoDataFrame(fire_incidents_main, geometry='Coordinates')"
   ]
  },
  {
   "cell_type": "code",
   "execution_count": 14,
   "metadata": {},
   "outputs": [
    {
     "name": "stdout",
     "output_type": "stream",
     "text": [
      "Warning: CRS does not match!\n"
     ]
    }
   ],
   "source": [
    "#spatial join gps \n",
    "fire_incidents_main_parcels = gpd.sjoin(fire_incidents_main_gdf, geo_loc_gdf_sub, how=\"left\", op='intersects')"
   ]
  },
  {
   "cell_type": "code",
   "execution_count": 16,
   "metadata": {},
   "outputs": [],
   "source": [
    "fire_incidents_w_parcel = pd.DataFrame(fire_incidents_main_parcels)\n",
    "#fire_incidents_w_parcel.drop('Coordinates', inplace= True)"
   ]
  },
  {
   "cell_type": "code",
   "execution_count": 21,
   "metadata": {},
   "outputs": [
    {
     "data": {
      "text/plain": [
       "(10546, 70)"
      ]
     },
     "execution_count": 21,
     "metadata": {},
     "output_type": "execute_result"
    }
   ],
   "source": [
    "fire_incidents_w_parcel.shape"
   ]
  },
  {
   "cell_type": "code",
   "execution_count": 23,
   "metadata": {},
   "outputs": [
    {
     "data": {
      "text/plain": [
       "(6963, 2)"
      ]
     },
     "execution_count": 23,
     "metadata": {},
     "output_type": "execute_result"
    }
   ],
   "source": [
    "#count the total number of fires per parcel\n",
    "fire_incidents_per_building =fire_incidents_w_parcel[['BuildingFire','blklot']].groupby(['blklot']).agg('count')\n",
    "fire_incidents_per_building.reset_index(inplace=True)\n",
    "fire_incidents_per_building.head()\n",
    "fire_incidents_per_building.shape"
   ]
  },
  {
   "cell_type": "code",
   "execution_count": 25,
   "metadata": {},
   "outputs": [],
   "source": [
    "R2Parcel = pd.read_csv('residential_units.csv')"
   ]
  },
  {
   "cell_type": "code",
   "execution_count": 29,
   "metadata": {},
   "outputs": [],
   "source": [
    "#only get r2 data \n",
    "fire_incidents_clean = R2Parcel.merge(fire_incidents_per_building,left_on=['Block and Lot Number'], \n",
    "                                                      right_on=['blklot'], how='inner')"
   ]
  },
  {
   "cell_type": "code",
   "execution_count": 30,
   "metadata": {},
   "outputs": [
    {
     "name": "stdout",
     "output_type": "stream",
     "text": [
      "(617, 6)\n",
      "(617, 6)\n"
     ]
    }
   ],
   "source": [
    "#check for duplicates\n",
    "print(fire_incidents_clean.shape)\n",
    "print(fire_incidents_clean.drop_duplicates('blklot').shape)"
   ]
  },
  {
   "cell_type": "code",
   "execution_count": 31,
   "metadata": {},
   "outputs": [],
   "source": [
    "#save to csv\n",
    "fire_incidents_clean.to_csv('fire_incidents_clean.csv')"
   ]
  },
  {
   "cell_type": "code",
   "execution_count": 32,
   "metadata": {},
   "outputs": [
    {
     "data": {
      "text/plain": [
       "0"
      ]
     },
     "execution_count": 32,
     "metadata": {},
     "output_type": "execute_result"
    }
   ],
   "source": [
    "fire_incidents_clean.blklot.isnull().sum()"
   ]
  },
  {
   "cell_type": "markdown",
   "metadata": {},
   "source": [
    "### Fires per year for data viz."
   ]
  },
  {
   "cell_type": "code",
   "execution_count": 35,
   "metadata": {},
   "outputs": [
    {
     "name": "stderr",
     "output_type": "stream",
     "text": [
      "/Users/taniajogesh/anaconda/lib/python2.7/site-packages/ipykernel/__main__.py:1: SettingWithCopyWarning: \n",
      "A value is trying to be set on a copy of a slice from a DataFrame.\n",
      "Try using .loc[row_indexer,col_indexer] = value instead\n",
      "\n",
      "See the caveats in the documentation: http://pandas.pydata.org/pandas-docs/stable/indexing.html#indexing-view-versus-copy\n",
      "  if __name__ == '__main__':\n",
      "/Users/taniajogesh/anaconda/lib/python2.7/site-packages/ipykernel/__main__.py:2: SettingWithCopyWarning: \n",
      "A value is trying to be set on a copy of a slice from a DataFrame.\n",
      "Try using .loc[row_indexer,col_indexer] = value instead\n",
      "\n",
      "See the caveats in the documentation: http://pandas.pydata.org/pandas-docs/stable/indexing.html#indexing-view-versus-copy\n",
      "  from ipykernel import kernelapp as app\n",
      "/Users/taniajogesh/anaconda/lib/python2.7/site-packages/ipykernel/__main__.py:3: SettingWithCopyWarning: \n",
      "A value is trying to be set on a copy of a slice from a DataFrame.\n",
      "Try using .loc[row_indexer,col_indexer] = value instead\n",
      "\n",
      "See the caveats in the documentation: http://pandas.pydata.org/pandas-docs/stable/indexing.html#indexing-view-versus-copy\n",
      "  app.launch_new_instance()\n"
     ]
    }
   ],
   "source": [
    "#calculate total fires per year\n",
    "fire_incidents_building_fires['Incident Date']=pd.to_datetime(fire_incidents_building_fires['Incident Date'],format='%m/%d/%Y')\n",
    "fire_incidents_building_fires['Year']=fire_incidents_building_fires['Incident Date'].apply(lambda x: x.year)\n",
    "fire_incidents_building_fires['Num_fires']=1\n",
    "fireloss =fire_incidents_building_fires[['Year','Estimated Property Loss',\n",
    "                              'Fire Fatalities', 'Fire Injuries',\n",
    "                              'Civilian Fatalities', 'Civilian Injuries',\n",
    "                                        'Num_fires']].groupby('Year').agg(sum)\n",
    "fireloss.reset_index(inplace=True)\n",
    "fireloss.to_csv('fires_per_year.csv')"
   ]
  },
  {
   "cell_type": "code",
   "execution_count": null,
   "metadata": {},
   "outputs": [],
   "source": []
  }
 ],
 "metadata": {
  "kernelspec": {
   "display_name": "Python 2",
   "language": "python",
   "name": "python2"
  },
  "language_info": {
   "codemirror_mode": {
    "name": "ipython",
    "version": 2
   },
   "file_extension": ".py",
   "mimetype": "text/x-python",
   "name": "python",
   "nbconvert_exporter": "python",
   "pygments_lexer": "ipython2",
   "version": "2.7.13"
  }
 },
 "nbformat": 4,
 "nbformat_minor": 2
}
